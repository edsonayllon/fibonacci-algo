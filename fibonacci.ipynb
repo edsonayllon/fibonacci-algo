{
 "cells": [
  {
   "cell_type": "markdown",
   "metadata": {},
   "source": [
    "Creates a fibonacci sequence. Fibonacci adds a new item by taking the sum of the previous 2 items.\n",
    "$$F_n = F_{n-1} + F_{n-2}$$\n",
    "\n",
    "Example: \n",
    "\n",
    "0,\t1,\t1,\t2,\t3,\t5,\t8,\t13,\t21,\t34,\t55,\t89,\t144,\t233,\t377,\t610,\t987,\t1597,\t2584,\t4181,\t6765"
   ]
  },
  {
   "cell_type": "code",
   "execution_count": 14,
   "metadata": {},
   "outputs": [
    {
     "name": "stdout",
     "output_type": "stream",
     "text": [
      "[1, 1, 2, 3, 5, 8, 13, 21, 34, 55, 89, 144]\n"
     ]
    }
   ],
   "source": [
    "def fibonacci(_sequence, _size):\n",
    "    if _size >= 1:\n",
    "        _size -= 1\n",
    "        _sequence.append(_sequence[-1] + _sequence[-2])\n",
    "        fibonacci(_sequence, _size)\n",
    "    return _sequence\n",
    "    \n",
    "seed = [1, 1]\n",
    "size = 10\n",
    "\n",
    "sequence = fibonacci(seed, size)\n",
    "\n",
    "print(sequence)"
   ]
  },
  {
   "cell_type": "code",
   "execution_count": null,
   "metadata": {},
   "outputs": [],
   "source": []
  }
 ],
 "metadata": {
  "kernelspec": {
   "display_name": "Python 3",
   "language": "python",
   "name": "python3"
  },
  "language_info": {
   "codemirror_mode": {
    "name": "ipython",
    "version": 3
   },
   "file_extension": ".py",
   "mimetype": "text/x-python",
   "name": "python",
   "nbconvert_exporter": "python",
   "pygments_lexer": "ipython3",
   "version": "3.7.4"
  }
 },
 "nbformat": 4,
 "nbformat_minor": 2
}
